{
  "nbformat": 4,
  "nbformat_minor": 0,
  "metadata": {
    "colab": {
      "name": "ComputerVision_project.ipynb",
      "provenance": [],
      "toc_visible": true,
      "authorship_tag": "ABX9TyOtPDiM1ScDeoeeQUFy6yuo",
      "include_colab_link": true
    },
    "kernelspec": {
      "name": "python3",
      "display_name": "Python 3"
    }
  },
  "cells": [
    {
      "cell_type": "markdown",
      "metadata": {
        "id": "view-in-github",
        "colab_type": "text"
      },
      "source": [
        "<a href=\"https://colab.research.google.com/github/0zz10/ComputerVision/blob/master/ComputerVision_project.ipynb\" target=\"_parent\"><img src=\"https://colab.research.google.com/assets/colab-badge.svg\" alt=\"Open In Colab\"/></a>"
      ]
    },
    {
      "cell_type": "markdown",
      "metadata": {
        "id": "doHtYcsIMrIA",
        "colab_type": "text"
      },
      "source": [
        "# 1.Introduction"
      ]
    },
    {
      "cell_type": "markdown",
      "metadata": {
        "colab_type": "text",
        "id": "RPCGKiMkNWqS"
      },
      "source": [
        "## 1.1 Purpose"
      ]
    },
    {
      "cell_type": "markdown",
      "metadata": {
        "id": "T-LUw464Mv-J",
        "colab_type": "text"
      },
      "source": [
        "## 1.2 Overview of Project Work"
      ]
    },
    {
      "cell_type": "markdown",
      "metadata": {
        "id": "iiGGkXhvNrvo",
        "colab_type": "text"
      },
      "source": [
        "# 2.Design and Production Approach"
      ]
    },
    {
      "cell_type": "markdown",
      "metadata": {
        "id": "ZJJ4renBN4uo",
        "colab_type": "text"
      },
      "source": [
        "## 2.1 Final Design Overview"
      ]
    },
    {
      "cell_type": "markdown",
      "metadata": {
        "id": "wQxg8eMOOGEC",
        "colab_type": "text"
      },
      "source": [
        "## 2.2 Raspberry Pi Camera V2"
      ]
    }
  ]
}