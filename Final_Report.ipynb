{
  "nbformat": 4,
  "nbformat_minor": 0,
  "metadata": {
    "colab": {
      "name": "Final_Report.ipynb",
      "provenance": [],
      "collapsed_sections": [],
      "toc_visible": true,
      "authorship_tag": "ABX9TyP9sObmK3oZ+zQVaDzMjIac",
      "include_colab_link": true
    },
    "kernelspec": {
      "name": "python3",
      "display_name": "Python 3"
    }
  },
  "cells": [
    {
      "cell_type": "markdown",
      "metadata": {
        "id": "view-in-github",
        "colab_type": "text"
      },
      "source": [
        "<a href=\"https://colab.research.google.com/github/0zz10/Operation-Mask-2020/blob/master/Final_Report.ipynb\" target=\"_parent\"><img src=\"https://colab.research.google.com/assets/colab-badge.svg\" alt=\"Open In Colab\"/></a>"
      ]
    },
    {
      "cell_type": "markdown",
      "metadata": {
        "id": "FXulK7eSpG2j",
        "colab_type": "text"
      },
      "source": [
        "# **Operation Mask 2020**: a real-time disease control system"
      ]
    },
    {
      "cell_type": "markdown",
      "metadata": {
        "id": "U4LzZq2r9N5D",
        "colab_type": "text"
      },
      "source": [
        "# 1.Introduction\n",
        "\n",
        "**Operation Name:** Opeartion-Mask-2020\n",
        "\n",
        "**Action Order:** Mask is a MUST.\n",
        "\n",
        "**Mission Data:** 2020-01-31 - unknown\n",
        "\n",
        "**Operation Information:**\n",
        "The 2019 novel coronavirus (2019-nCoV), also known as the Wuhan coronavirus, is a contagious virus that causes respiratory infection and has shown evidence of human-to-human transmission, first identified by authorities in Wuhan, Hubei, China, as the cause of the ongoing 2019–20 Wuhan coronavirus outbreak.\n",
        "\n",
        "This operation is immediately taken into action to make necessary medical precaution for further virus transmission as well as medical treatment to current patients.\n",
        "\n",
        "The following project is **a real-time temperature measurement/mask-wearing detection disease control system**, built on Raspberry Pi 4B, PiCamera, IR temperature sensor, Google Cloud Platform (AutoML Vision, Storage, Big Query, Pub/Sub, Cloud Functions), digital segment display, and LCD display. The programming tools are pythons and TensorFlow Lite."
      ]
    },
    {
      "cell_type": "markdown",
      "metadata": {
        "id": "5r8rINla4s2F",
        "colab_type": "text"
      },
      "source": [
        "## Novel coronavirus (2019-nCoV/Wuhan coronavirus) Disease Data Visualization\n",
        "![alt text](https://github.com/globalcitizen/2019-wuhan-coronavirus-data/raw/master/data-sources/dxy/data/latest-animation.gif)\n",
        "\n",
        "Please remember it is not just numbers, there are actual numbers of lives, families, and stories behind that we are supporting and praying for."
      ]
    },
    {
      "cell_type": "markdown",
      "metadata": {
        "id": "i_dA3SlbGHar",
        "colab_type": "text"
      },
      "source": [
        "## 1.1 Project description\n",
        "\n",
        "This Project can be divided into 3 modules as shown :\n",
        "\n",
        "*   **End User** (disease inspector, doctor, or civilian in Linux, MacOS, Windows)\n",
        "*   **Raspberry Pi Edged-device** (object detection model deployment, data collection, and edge-computing)\n",
        "*   **Server/Cloud** (GitHub and Google Cloud accessible)\n",
        "\n"
      ]
    },
    {
      "cell_type": "markdown",
      "metadata": {
        "id": "2s0XgyoaAhIX",
        "colab_type": "text"
      },
      "source": [
        "## 1.2 Operation Architecture:\n",
        "![alt text](https://drive.google.com/uc?id=1USGl1pAQIl8K8jdmGrCMPqVwqfq6w07d)"
      ]
    },
    {
      "cell_type": "markdown",
      "metadata": {
        "id": "d4J4njf_nIs3",
        "colab_type": "text"
      },
      "source": [
        "## (2019-nCoV) China Stay Strong"
      ]
    },
    {
      "cell_type": "markdown",
      "metadata": {
        "id": "O4SQK5gk6ZWr",
        "colab_type": "text"
      },
      "source": [
        "![2019-nCoV Stay Strong](https://img.tuguaishou.com/ips_templ_preview/04/de/6e/lg_2799837_1580000756_5e2ce5f43bf42.jpg!w1024_w?auth_key=2212653120-0-0-a86c51c90001ef8a09099360ca4ea9f7)"
      ]
    },
    {
      "cell_type": "markdown",
      "metadata": {
        "colab_type": "text",
        "id": "-mH7y8SClAqT"
      },
      "source": [
        "# 2.Demonstration\n",
        "\n",
        "Please refer to https://youtu.be/RVai-bdd2Lc"
      ]
    },
    {
      "cell_type": "markdown",
      "metadata": {
        "colab_type": "text",
        "id": "2ZxFg-_36EzN"
      },
      "source": [
        "## 2.1 VisionAutoML \n",
        "Self-labelled Data\n",
        "https://console.cloud.google.com/vision/datasets?project=cvfinal34944\n",
        "\n",
        "Cloud Tryout\n",
        "\n",
        "Video Streaming"
      ]
    },
    {
      "cell_type": "markdown",
      "metadata": {
        "id": "sAlKNcTS5_cu",
        "colab_type": "text"
      },
      "source": [
        "## 2.2 Deploy on Raspberry Pi"
      ]
    },
    {
      "cell_type": "markdown",
      "metadata": {
        "id": "hh_7yzIp6_aB",
        "colab_type": "text"
      },
      "source": [
        "## 2.3 Non-contact Temperature Sensor"
      ]
    },
    {
      "cell_type": "markdown",
      "metadata": {
        "id": "ZvDlgd_m7H5P",
        "colab_type": "text"
      },
      "source": [
        "## 2.4 Google BigQuery\n",
        "https://console.cloud.google.com/bigquery?project=cvfinal34944"
      ]
    },
    {
      "cell_type": "markdown",
      "metadata": {
        "id": "tRm6fgOavuf1",
        "colab_type": "text"
      },
      "source": [
        "# 3.Prospective Optimization\n",
        "\n",
        "The following actions can be taken for future improvement on this project"
      ]
    },
    {
      "cell_type": "markdown",
      "metadata": {
        "id": "uDoIAGRHAyoz",
        "colab_type": "text"
      },
      "source": [
        "## 3.1 National Disease Control System\n",
        "\n",
        "*   Connect more edge devices into IoTs, acquire larger datasets\n",
        "*   Reproducible, with github download and standardized hardwares (Sensors and Raspberry Pi)\n",
        "*   low-cost applications, in total less than $200, 5 times cheaper than thermal camera dectector\n",
        "*   High Accuarcy- Machine Learning& High-end Temperature Sensor\n",
        "*   Real-time massive data logging and data processing\n",
        "\n"
      ]
    },
    {
      "cell_type": "markdown",
      "metadata": {
        "id": "Aj7KnlQ7BVAW",
        "colab_type": "text"
      },
      "source": [
        "## 3.2 Edge Enhancement\n",
        "\n",
        "\n",
        "\n",
        "*   The [Coral USB Accelerator](https://coral.ai/products/accelerator/) is a USB hardware accessory for speeding up TensorFlow models. The USB Accelerator uses the **Edge TPU** (tensor processing unit), which is an ASIC (application-specific integrated circuit) chip specially designed with highly parallelized ALUs (arithmetic logic units). \n",
        "*   Another option is to use [Intel® Movidius™ Neural Compute Stick](https://software.intel.com/en-us/movidius-ncs), which uses Intel® Movidius™ **Vision Processing Unit** (VPU) to develop edge-computing performance.\n",
        "\n"
      ]
    },
    {
      "cell_type": "markdown",
      "metadata": {
        "id": "DMn2wj4sQwAk",
        "colab_type": "text"
      },
      "source": [
        "## 3.3 Better Model Performance\n",
        "The TensorFlow Lite Model was created only by 300 labelled images. And 'mask' is the unique label. This model can be greater developed with more datasets with different labels.\n",
        "\n",
        "On the purpose of this project, the open source datasets are now permitted. But in reality, we could build/test/depoly with [open data libraries](https://www.analyticsvidhya.com/blog/2018/03/comprehensive-collection-deep-learning-datasets/)."
      ]
    },
    {
      "cell_type": "markdown",
      "metadata": {
        "id": "FvjxtpESBOxO",
        "colab_type": "text"
      },
      "source": [
        "## 3.4 More APIs and Sensors integrated\n",
        "*   Google Assist\n",
        "https://console.cloud.google.com/apis/library/embeddedassistant.googleapis.com?project=cvfinal34944\n",
        "*   Google Healthcare\n",
        "https://console.cloud.google.com/healthcare/browser?project=cvfinal34944\n",
        "*   Google Map\n",
        "https://console.cloud.google.com/google/maps-apis/new?project=cvfinal34944\n"
      ]
    },
    {
      "cell_type": "markdown",
      "metadata": {
        "id": "ae6IlXm--5Yu",
        "colab_type": "text"
      },
      "source": [
        "## 3.5 Manufacturing Industry\n",
        "The number of masks detected can be further analyzed to see the bigger picture. For instance, we can perform automatic calculation of the density or the populartion wearing masks at each data checking point. The data of unworn populartion can sent to factory via IoTs, as the **potential mask demand** to make the **optimal productivity allocation**"
      ]
    },
    {
      "cell_type": "markdown",
      "metadata": {
        "id": "fQXI2Cxicnl9",
        "colab_type": "text"
      },
      "source": [
        "# 4.References"
      ]
    },
    {
      "cell_type": "markdown",
      "metadata": {
        "id": "XD_b3jQZcwF2",
        "colab_type": "text"
      },
      "source": [
        "[1] Raspberry Pi 4 Model B Beginner’s Guide v2 \n",
        "(released on June 2019)\n",
        "https://magpi.raspberrypi.org/books/beginners-guide-2nd-ed/pdf\n",
        "\n",
        "[2] Getting Started With The Raspberry Pi 4\n",
        "https://www.youtube.com/watch?v=8grooZWbH9Y.References\n",
        "\n",
        "[3] connect raspberry pi with Microsoft remote desktop on mac:\n",
        "https://www.youtube.com/watch?v=uFNAkosUiQs\n",
        "\n",
        "[4] Copying Files Over Microsoft Remote Desktop for macOS:\n",
        "https://www.youtube.com/watch?v=zJxPsSs8gDw\n",
        "\n",
        "[5] PiCamera User Manual: https://picamera.readthedocs.io/en/latest/index.html\n",
        "\n",
        "[6] keyestudio MLX90614 Non-contact Infrared Temperature Sensor Documentation: https://wiki.keyestudio.com/index.php/Ks0276_keyestudio_MLX90614_Non-contact_Infrared_Temperature_Sensor\n",
        "\n",
        "[7] TM1637 4-Digit 7-Segment Display Installation: https://drive.google.com/file/d/1ZLF7e4F5_Lk8ep0m4TY2JPaPlReER9YY/view\n",
        "\n",
        "[8] Use Google Cloud Vision On the Raspberry Pi and GoPiGo:\n",
        "http://www.dexterindustries.com/howto/use-google-cloud-vision-on-the-raspberry-pi/\n",
        "\n",
        "[9] Edge device model on GCP AutoML Vision:\n",
        "https://cloud.google.com/vision/automl/docs/edge-quickstart\n",
        "\n",
        "[10] TensorFlow Lite Python classification example with Pi Camera: https://github.com/tensorflow/examples/tree/master/lite/examples/image_classification/raspberry_pi)\n",
        "\n",
        "[11] 2019 Wuhan Coronavirus data (2019-nCoV): https://github.com/globalcitizen/2019-wuhan-coronavirus-data\n",
        "\n",
        "[12] Building a Serverless Data Pipeline: IoT to Analytics: https://codelabs.developers.google.com/codelabs/iot-data-pipeline\n",
        "\n",
        "[13] TensorFlow-Lite-Object-Detection-on-Android-and-Raspberry-Pi https://github.com/EdjeElectronics/TensorFlow-Lite-Object-Detection-on-Android-and-Raspberry-Pi"
      ]
    }
  ]
}