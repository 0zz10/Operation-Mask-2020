{
  "nbformat": 4,
  "nbformat_minor": 0,
  "metadata": {
    "colab": {
      "name": "steps instructions.ipynb",
      "provenance": [],
      "collapsed_sections": [],
      "toc_visible": true,
      "authorship_tag": "ABX9TyPdzuLXmV9G84yTWstJDkSb",
      "include_colab_link": true
    },
    "kernelspec": {
      "name": "python3",
      "display_name": "Python 3"
    }
  },
  "cells": [
    {
      "cell_type": "markdown",
      "metadata": {
        "id": "view-in-github",
        "colab_type": "text"
      },
      "source": [
        "<a href=\"https://colab.research.google.com/github/0zz10/Operation-Mask-2020/blob/master/steps_instructions.ipynb\" target=\"_parent\"><img src=\"https://colab.research.google.com/assets/colab-badge.svg\" alt=\"Open In Colab\"/></a>"
      ]
    },
    {
      "cell_type": "markdown",
      "metadata": {
        "id": "FXulK7eSpG2j",
        "colab_type": "text"
      },
      "source": [
        "# **Operation Mask 2020**: a customized end-to-end disease control system"
      ]
    },
    {
      "cell_type": "markdown",
      "metadata": {
        "id": "uerNT3ZY92hn",
        "colab_type": "text"
      },
      "source": [
        "# 1.Set Up"
      ]
    },
    {
      "cell_type": "markdown",
      "metadata": {
        "colab_type": "text",
        "id": "x_1XBxSi-dHG"
      },
      "source": [
        "## 1.1 Project setup on GCP and AutoML API enable"
      ]
    },
    {
      "cell_type": "markdown",
      "metadata": {
        "id": "AQ8tTFFgKVvq",
        "colab_type": "text"
      },
      "source": [
        "After Setting up a Google Cloud Project, in this case **cvfinal34944** is my project name.\n",
        "We initialize the an API Service Account and download a JSON Key for edge computing.\n",
        "\n",
        "![alt text](https://drive.google.com/uc?id=1QEtTvv7TXuNxxFgQIQyOKGhU9WFH3-uR)"
      ]
    },
    {
      "cell_type": "markdown",
      "metadata": {
        "id": "fBZIBPBn9-Lc",
        "colab_type": "text"
      },
      "source": [
        "## 1.2 Raspberry Pi Hardware Setup"
      ]
    },
    {
      "cell_type": "markdown",
      "metadata": {
        "id": "1bRxy2Ss4Ebz",
        "colab_type": "text"
      },
      "source": [
        "![*Source:robot-advance.com*](https://www.robot-advance.com/userfiles/www.robot-advance.com/images/raspberry-4-modele-b-4go.jpg)\n",
        "\n",
        "Raspberry Pi 4 Model B\n",
        "*Source:robot-advance.com*\n",
        "![Raspberry Pi GPIO Header](https://www.raspberrypi-spy.co.uk/wp-content/uploads/2012/06/Raspberry-Pi-GPIO-Header-with-Photo.png)\n",
        "\n",
        "Raspberry Pi GPIO Header"
      ]
    },
    {
      "cell_type": "markdown",
      "metadata": {
        "id": "rqbVegnf-UQ9",
        "colab_type": "text"
      },
      "source": [
        "## 1.3a) Remote Control of Raspberry Pi via SSH and Microsoft Remote Destop\n",
        "\n",
        "I am using both MacOS terminal for RaspberryPi command input and Microsoft Remote for documents sharing and actual screen display."
      ]
    },
    {
      "cell_type": "markdown",
      "metadata": {
        "id": "K6r4Zb2zRVYZ",
        "colab_type": "text"
      },
      "source": [
        "in Raspberry terminal:"
      ]
    },
    {
      "cell_type": "code",
      "metadata": {
        "id": "9VpB8GE9Ag3d",
        "colab_type": "code",
        "colab": {}
      },
      "source": [
        "# First, the Raspberry Pi needs to be fully updated\n",
        "sudo apt-get update\n",
        "sudo apt-get dist-upgrade\n",
        "\n",
        "ifconfig\n",
        "# The IP address under Wlan0 is usded for Microsoft Remote on MacOS, in this case IP is 192.168.1.73\n",
        "\n",
        "# reset passwd if neccessary\n",
        "sudo passwd"
      ],
      "execution_count": 0,
      "outputs": []
    },
    {
      "cell_type": "markdown",
      "metadata": {
        "id": "_ps-86yRRaTK",
        "colab_type": "text"
      },
      "source": [
        "in MacOS terminal:"
      ]
    },
    {
      "cell_type": "code",
      "metadata": {
        "id": "bUUcq2tTRjpS",
        "colab_type": "code",
        "colab": {}
      },
      "source": [
        "ssh pi@192.168.1.73\n",
        "# input password on pi\n",
        "\n",
        "whoami\n",
        "# return pi, show access bridged\n",
        "\n",
        "# Get ready for VSN remote control acess\n",
        "sudo apt install xrdp -y"
      ],
      "execution_count": 0,
      "outputs": []
    },
    {
      "cell_type": "markdown",
      "metadata": {
        "id": "tbvdRrVPRUdU",
        "colab_type": "text"
      },
      "source": [
        "using Microsoft Remote Destop:"
      ]
    },
    {
      "cell_type": "markdown",
      "metadata": {
        "colab_type": "text",
        "id": "qL-TaAfpLvfI"
      },
      "source": [
        "## 1.3b) Remote Control of Raspberry Pi via VNC View\n",
        "\n",
        "First, **Download** VNC Viewer in your desktop for remote control\n",
        "\n",
        "After my TF card burnt out. I chose to make an alternative approach to remote control via VNC.\n",
        "\n",
        "Follow the instruction below.\n",
        "\n",
        "https://www.youtube.com/watch?v=kPeb5IvZW_k\n",
        "https://magpi.raspberrypi.org/articles/vnc-raspberry-pi"
      ]
    },
    {
      "cell_type": "markdown",
      "metadata": {
        "id": "lkPTluz-PFpx",
        "colab_type": "text"
      },
      "source": [
        "in Raspberry Pi Terminal"
      ]
    },
    {
      "cell_type": "code",
      "metadata": {
        "colab_type": "code",
        "id": "sdHud4RLYREf",
        "colab": {}
      },
      "source": [
        "# First, the Raspberry Pi needs to be fully updated\n",
        "sudo apt-get update\n",
        "sudo apt-get dist-upgrade\n",
        "sudo apt-get install gimp\n",
        "\n",
        "ifconfig\n",
        "# The IP address under Wlan0 is usded for Microsoft Remote on MacOS, in this case IP is 192.168.1.73\n",
        "\n",
        "# reset passwd if neccessary\n",
        "sudo passwd"
      ],
      "execution_count": 0,
      "outputs": []
    },
    {
      "cell_type": "markdown",
      "metadata": {
        "id": "Fs_88FPHa296",
        "colab_type": "text"
      },
      "source": [
        "###1.3b) 2) for Raspberry elder edition\n",
        "This part is  not neccessary for Raspberry Pi 4B or higher because pi has built-in vnc applicaitons installed\n"
      ]
    },
    {
      "cell_type": "code",
      "metadata": {
        "id": "ri-_a_k3MG9W",
        "colab_type": "code",
        "colab": {}
      },
      "source": [
        "#Credits to http://4dc5.com/2012/06/12/setting-up-vnc-on-raspberry-pi-for-mac-access/ for developing a guide to base this tutorial on.\n",
        "\n",
        "sudo apt-get install tightvncserver\n",
        "\n",
        "vncserver :2020   #creat password\n",
        "\n",
        "sudo apt-get install netatalk\n",
        "\n",
        "ifconfig\n",
        "# The IP address under inet is usded for Microsoft Remote on MacOS, in this case inet IP is 192.168.1.73"
      ],
      "execution_count": 0,
      "outputs": []
    },
    {
      "cell_type": "markdown",
      "metadata": {
        "id": "0w6NyISWPL0D",
        "colab_type": "text"
      },
      "source": [
        "INow from the Mac terminal"
      ]
    },
    {
      "cell_type": "code",
      "metadata": {
        "id": "dXQP14GOPKRp",
        "colab_type": "code",
        "colab": {}
      },
      "source": [
        "#open Finder, and hit ⌘K. Enter vnc://192.168.1.73 (custimized by ifconfig-wlan0-inet).\n",
        "sudo apt-get install avahi-daemon\n",
        "sudo update-rc.d avahi-daemon defaults\n",
        "\n",
        "sudo vim /etc/avahi/services/afpd.service"
      ],
      "execution_count": 0,
      "outputs": []
    },
    {
      "cell_type": "code",
      "metadata": {
        "id": "5wTINr8BPgJl",
        "colab_type": "code",
        "colab": {}
      },
      "source": [
        "<?xml version=\"1.0\" standalone='no'?><!--*-nxml-*-->\n",
        "<!DOCTYPE service-group SYSTEM \"avahi-service.dtd\">\n",
        "<service-group>\n",
        "   <name replace-wildcards=\"yes\">%h</name>\n",
        "   <service>\n",
        "      <type>_afpovertcp._tcp</type>\n",
        "      <port>548</port>\n",
        "   </service>\n",
        "</service-group>"
      ],
      "execution_count": 0,
      "outputs": []
    },
    {
      "cell_type": "code",
      "metadata": {
        "id": "7ijDFXulPkWz",
        "colab_type": "code",
        "colab": {}
      },
      "source": [
        "sudo /etc/init.d/avahi-daemon restart\n",
        "\n",
        "#Will show the Pi in the sidebar on your Mac by default.\n",
        "cd /etc/init.d\n",
        "sudo vim tightvncserver"
      ],
      "execution_count": 0,
      "outputs": []
    },
    {
      "cell_type": "markdown",
      "metadata": {
        "id": "nFzgm4PaP5DC",
        "colab_type": "text"
      },
      "source": [
        "Add the following content and change 1440x900 to 1920x1080:"
      ]
    },
    {
      "cell_type": "code",
      "metadata": {
        "id": "DNJ9OnhEP7Dx",
        "colab_type": "code",
        "colab": {}
      },
      "source": [
        "#Change the permissions of the file you just created\n",
        "sudo chmod +x tightvncserver\n",
        "\n",
        "#kill the server\n",
        "sudo pkill Xtightvnc\n",
        "\n",
        "sudo /etc/init.d/tightvncserver start\n",
        "cd /etc/init.d\n",
        "sudo update-rc.d tightvncserver defaults"
      ],
      "execution_count": 0,
      "outputs": []
    },
    {
      "cell_type": "code",
      "metadata": {
        "id": "3r7TIZgcQJ_0",
        "colab_type": "code",
        "colab": {}
      },
      "source": [
        "sudo vim /etc/avahi/services/rfb.service"
      ],
      "execution_count": 0,
      "outputs": []
    },
    {
      "cell_type": "markdown",
      "metadata": {
        "id": "c1lzBosiQZbX",
        "colab_type": "text"
      },
      "source": [
        "and add this content:"
      ]
    },
    {
      "cell_type": "code",
      "metadata": {
        "id": "MuBZy_DbQWeL",
        "colab_type": "code",
        "colab": {}
      },
      "source": [
        "<?xml version=\"1.0\" standalone='no'?>\n",
        "<!DOCTYPE service-group SYSTEM \"avahi-service.dtd\">\n",
        "<service-group>\n",
        "  <name replace-wildcards=\"yes\">%h</name>\n",
        "  <service>\n",
        "    <type>_rfb._tcp</type>\n",
        "    <port>5901</port>\n",
        "  </service>\n",
        "</service-group>"
      ],
      "execution_count": 0,
      "outputs": []
    },
    {
      "cell_type": "code",
      "metadata": {
        "id": "X1JU4rdgQcq8",
        "colab_type": "code",
        "colab": {}
      },
      "source": [
        "#Finally Step\n",
        "sudo /etc/init.d/avahi-daemon restart"
      ],
      "execution_count": 0,
      "outputs": []
    },
    {
      "cell_type": "markdown",
      "metadata": {
        "colab_type": "text",
        "id": "3LavHDlIIliz"
      },
      "source": [
        "## 1.4 Picamera Preparation"
      ]
    },
    {
      "cell_type": "markdown",
      "metadata": {
        "id": "iv7G3TQpI5Ic",
        "colab_type": "text"
      },
      "source": [
        "install Python Imaging Library"
      ]
    },
    {
      "cell_type": "code",
      "metadata": {
        "id": "6E-KF5PaI5gG",
        "colab_type": "code",
        "colab": {}
      },
      "source": [
        "python3 -m pip install --user Pillow"
      ],
      "execution_count": 0,
      "outputs": []
    },
    {
      "cell_type": "markdown",
      "metadata": {
        "id": "ZmRLGH0hI8mf",
        "colab_type": "text"
      },
      "source": [
        "install Raspberry Pi Camera V2"
      ]
    },
    {
      "cell_type": "code",
      "metadata": {
        "id": "GsrNNTZ3HRZb",
        "colab_type": "code",
        "colab": {}
      },
      "source": [
        "python3 -m pip install --user picamera"
      ],
      "execution_count": 0,
      "outputs": []
    },
    {
      "cell_type": "markdown",
      "metadata": {
        "id": "IywXdnqMMiTS",
        "colab_type": "text"
      },
      "source": [
        "testing camera pi"
      ]
    },
    {
      "cell_type": "code",
      "metadata": {
        "id": "EbKW7Rw2MoEo",
        "colab_type": "code",
        "colab": {}
      },
      "source": [
        "raspistill -o image.png\n",
        "raspistill -o image.jpg"
      ],
      "execution_count": 0,
      "outputs": []
    },
    {
      "cell_type": "markdown",
      "metadata": {
        "id": "rTQnDLKS5MxK",
        "colab_type": "text"
      },
      "source": [
        "# 2.Data Acquisition & Modelling"
      ]
    },
    {
      "cell_type": "markdown",
      "metadata": {
        "id": "bIjaoXO2bxBO",
        "colab_type": "text"
      },
      "source": [
        "## 2.1 Trainning Data Prepartion"
      ]
    },
    {
      "cell_type": "markdown",
      "metadata": {
        "colab_type": "text",
        "id": "Xhlu2k7FcCyV"
      },
      "source": [
        "## 2. Mask:a customized GCP AutoML trained\n",
        "\n",
        "![alt text](https://drive.google.com/uc?id=1EM3C_z1UyuoPjn1lhz33w_ivMSIwOl4a)"
      ]
    },
    {
      "cell_type": "markdown",
      "metadata": {
        "id": "ZsBA9GQoxneC",
        "colab_type": "text"
      },
      "source": [
        "## 2.3 Configure an I2C-non contact temperature sensor MLX90614\n",
        "\n",
        "I2C: a useful bus that allows data exchange between microcontrollers and peripherals with a minimum of wiring.\n"
      ]
    },
    {
      "cell_type": "markdown",
      "metadata": {
        "id": "91uV7FNQfn_7",
        "colab_type": "text"
      },
      "source": [
        "The I2C peripheral is not turned on by default. To enable it, do the following.\n",
        "\n",
        "Raspberry Pi Configuration via Desktop GUI\n",
        "You can use the Desktop GUI by heading to the Pi Start Menu > Preferences > Raspberry Pi Configuration\n",
        "\n",
        "A window will pop up with different tabs to adjust settings. What we are interested is the Interfaces tab. **Click on the tab and select Enable for I2C**. At this point, you can enable additional interfaces depending on your project needs. Click on the OK button to same.\n",
        "\n",
        "![alt text](https://cdn.sparkfun.com/r/600-600/assets/learn_tutorials/4/4/9/Raspberry-Pi-Configuration-Enable-Interfaces.png)"
      ]
    },
    {
      "cell_type": "markdown",
      "metadata": {
        "id": "YvGSwa_1hutp",
        "colab_type": "text"
      },
      "source": [
        "For hardware wirings setup, connect **SDA to Pin 3** on Raspberry Pi, **SCL to Pin 5**, **VCC to Pin 1** (3.3V) and **GND to any ground pin** (I used Pin 09) on Raspberry Pi.\n",
        "![alt text](https://cdn.sparkfun.com/assets/learn_tutorials/4/4/9/pin-labels-on-pi-ver2.png)\n",
        "![alt text](https://images-na.ssl-images-amazon.com/images/I/51Ect0McNXL._AC_SX522_.jpg)"
      ]
    },
    {
      "cell_type": "code",
      "metadata": {
        "id": "eumqfQwgeaha",
        "colab_type": "code",
        "colab": {}
      },
      "source": [
        "#in your raspberry terminal or ssh terminal, issue the following command, 0x5a indicates the data input address, MLX90614\n",
        "i2cdetect -y 1"
      ],
      "execution_count": 0,
      "outputs": []
    },
    {
      "cell_type": "markdown",
      "metadata": {
        "id": "PGifpGpMg8Pj",
        "colab_type": "text"
      },
      "source": [
        "![alt text](https://drive.google.com/uc?id=16bqDfH5U5CjhffL3CZhxhIfUfh1PX_s9)"
      ]
    },
    {
      "cell_type": "markdown",
      "metadata": {
        "colab_type": "text",
        "id": "ePPRB4Q06MDF"
      },
      "source": [
        "## 2.3 Building a Serverless Data Pipeline: IoT to Analytics"
      ]
    },
    {
      "cell_type": "markdown",
      "metadata": {
        "id": "3h4ddN4Yxx_5",
        "colab_type": "text"
      },
      "source": [
        "build a weather data pipeline that starts with an Internet of Things (IoT) device, utilizes a message queue to receive and deliver data, leverages a serverless function to move the data to a data warehouse and then create a dashboard that displays the information. A Raspberry Pi with a contactless temperature sensor (MLX90614) will be used for the IoT device and several components of the Google Cloud Platform will form the data pipeline.\n",
        "\n",
        "![alt text](https://codelabs.developers.google.com/codelabs/iot-data-pipeline/img/b187da70e7caca4d.png)\n",
        "\n",
        "This part is mainly based on Google Cloud Platform, I am using a existing tutorial for reference.\n",
        "https://codelabs.developers.google.com/codelabs/iot-data-pipeline/index.html#0"
      ]
    },
    {
      "cell_type": "markdown",
      "metadata": {
        "id": "QUqjTPQezJV4",
        "colab_type": "text"
      },
      "source": [
        "I am following the instructions 1-5 on Google Cloud APIs, and for the security key in my case is"
      ]
    },
    {
      "cell_type": "markdown",
      "metadata": {
        "id": "sfqVZZdT5J81",
        "colab_type": "text"
      },
      "source": [
        "Setup Google Cloud SDK on Raspberry Pi4"
      ]
    },
    {
      "cell_type": "code",
      "metadata": {
        "id": "NiuchFZT5SUT",
        "colab_type": "code",
        "colab": {}
      },
      "source": [
        "curl https://sdk.cloud.google.com | bash\n",
        "\n",
        "exec -l $SHELL\n",
        "\n",
        "gcloud init"
      ],
      "execution_count": 0,
      "outputs": []
    },
    {
      "cell_type": "markdown",
      "metadata": {
        "id": "D7i6UiUlbdmG",
        "colab_type": "text"
      },
      "source": [
        "# 3.Real-time Videostreaming and temperature analysis"
      ]
    },
    {
      "cell_type": "markdown",
      "metadata": {
        "id": "H2kzezR3idrN",
        "colab_type": "text"
      },
      "source": [
        "I'm using a virtual environment for this guide because it prevents any conflicts between versions of package libraries that may already be installed on your Pi. Keeping it installed in its own environment allows us to avoid this problem."
      ]
    },
    {
      "cell_type": "code",
      "metadata": {
        "id": "Uv7xIzwHgk_o",
        "colab_type": "code",
        "colab": {}
      },
      "source": [
        "cd \n",
        "#Install virtualenv by issuing:\n",
        "sudo pip3 install virtualenv\n",
        "\n",
        "#Then, create the \"opt-mask-env\" virtual environment by issuing:\n",
        "python3 -m venv opt-mask-env\n",
        "\n",
        "#This will create a folder called opt-mask-env inside the directory, the virtual environment folder opt-mask-env will hold all the package libraries for this environment. Next, activate the environment by issuing\n",
        "source opt-mask-env/bin/activate\n",
        "#at this point, the command line on your raspberry pi show looks like: (opt-mask-env) pi@raspberrypi:~/Opeartion-Mask-2020 $\n",
        "\n",
        "#Install libraries for TensorFlow Lite dependencies and OpenCV in requirement.sh, download it to your directory\n",
        "bash bash requirements.sh\n",
        "#this 400MB-file downloading takes 15-30mins, go wear a mask while you waiting!\n",
        "\n",
        "#a build-in video streaming deployed by my self-trained model, under model_lite folder, the model is detect.tflite(rename after my autoML edge-deployed model export in 2.2) and label info is labelmap.txt\n",
        "python3 TFLite_detection_webcam.py --modeldir=model_lite\n",
        "\n",
        "\n",
        "python TFLite_detection_image.py --modeldir=model_lite --image=./test/01.jpg\n",
        "python TFLite_detection_image.py --modeldir=model_lite --image=./Test/01.jpg\n"
      ],
      "execution_count": 0,
      "outputs": []
    },
    {
      "cell_type": "code",
      "metadata": {
        "id": "d2n6LsZK8oB7",
        "colab_type": "code",
        "colab": {}
      },
      "source": [
        ""
      ],
      "execution_count": 0,
      "outputs": []
    },
    {
      "cell_type": "markdown",
      "metadata": {
        "id": "6eSA6XqX8fWb",
        "colab_type": "text"
      },
      "source": [
        "[compile_natively_on_raspberry_pi](https://www.tensorflow.org/lite/guide/build_rpi#compile_natively_on_raspberry_pi)"
      ]
    },
    {
      "cell_type": "markdown",
      "metadata": {
        "id": "fv__1POZKtC9",
        "colab_type": "text"
      },
      "source": [
        "This example uses TensorFlow Lite with Python on a Raspberry Pi to perform real-time image classification using images streamed from the Pi Camera."
      ]
    },
    {
      "cell_type": "markdown",
      "metadata": {
        "id": "Z4i8uuLIS2Ge",
        "colab_type": "text"
      },
      "source": [
        "Run TensorFlow Lite Object Detection Models on the Raspberry Pi 【Reference】"
      ]
    },
    {
      "cell_type": "code",
      "metadata": {
        "id": "kclwiwHpPGNz",
        "colab_type": "code",
        "colab": {}
      },
      "source": [
        "python3 TFLite_detection_webcam.py --modeldir=model_lite"
      ],
      "execution_count": 0,
      "outputs": []
    },
    {
      "cell_type": "markdown",
      "metadata": {
        "id": "7Jc8SIzASeZu",
        "colab_type": "text"
      },
      "source": [
        "[TensorFlow Lite Python classification example with Pi Camera](https://github.com/tensorflow/examples/tree/master/lite/examples/image_classification/raspberry_pi)"
      ]
    },
    {
      "cell_type": "code",
      "metadata": {
        "id": "L4suKjGgKf12",
        "colab_type": "code",
        "colab": {}
      },
      "source": [
        "# Install the TensorFlow Lite runtime\n",
        "pip3 install https://dl.google.com/coral/python/tflite_runtime-2.1.0-cp37-cp37m-linux_armv7l.whl"
      ],
      "execution_count": 0,
      "outputs": []
    },
    {
      "cell_type": "code",
      "metadata": {
        "id": "ENlnC9G2DjO8",
        "colab_type": "code",
        "colab": {}
      },
      "source": [
        "python3 classify_picamera.py \\\n",
        "  --model /model-export_iod_tflite-wearing_masks_raspi-2020-01-29T18_02_00.090Z_model.tflite \\\n",
        "  --labels /model-export_iod_tflite-wearing_masks_raspi-2020-01-29T18_02_00.090Z_dict.txt"
      ],
      "execution_count": 0,
      "outputs": []
    },
    {
      "cell_type": "code",
      "metadata": {
        "id": "3KslwyEQFr7m",
        "colab_type": "code",
        "colab": {}
      },
      "source": [
        "#Raspberry Pi Python3 Environment\n",
        "#access API key file, load the credential\n",
        "export GOOGLE_APPLICATION_CREDENTIALS=cvfinal34944-165d7fd429b3.json\n",
        "\n",
        "export PROJECT_ID=cvfinal34944\n",
        "\n",
        "#Enter the following at a command prompt:\n",
        "curl https://sdk.cloud.google.com | bash\n",
        "\n",
        "#Restart your shell:\n",
        "exec -l $SHELL\n",
        "\n",
        "sudo apt-get install apt-transport-https ca-certificates gnupg\n",
        "\n",
        "#Run gcloud init to initialize the gcloud environment:\n",
        "gcloud init\n",
        "\n",
        "gcloud auth login\n",
        "gcloud projects add-iam-policy-binding $PROJECT_ID \\\n",
        "   --member=\"serviceAccount:service-account-name\" \\\n",
        "   --role=\"roles/automl.editor\"\n",
        "\n",
        "raspistill -o image.jpg\n",
        "\n",
        "python3 predict.py\n",
        "#python predict.py image.jpg 673576088231 IOD1758457742395179008"
      ],
      "execution_count": 0,
      "outputs": []
    },
    {
      "cell_type": "markdown",
      "metadata": {
        "id": "foy0CF3kOOAo",
        "colab_type": "text"
      },
      "source": [
        "# 4 Useful Tools"
      ]
    },
    {
      "cell_type": "markdown",
      "metadata": {
        "id": "jjA92e37OQBK",
        "colab_type": "text"
      },
      "source": [
        "1. macOS Mojave built-in screen recoder\n",
        "`\n",
        "Shift+ Command + 5\n",
        "`\n",
        "\n",
        "\n",
        "\n",
        "2. Shut down command\n",
        "`sudo shutdown -h now`"
      ]
    }
  ]
}